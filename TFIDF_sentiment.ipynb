{
 "cells": [
  {
   "cell_type": "code",
   "execution_count": 1,
   "metadata": {},
   "outputs": [],
   "source": [
    "import numpy as np\n",
    "import pandas as pd\n",
    "\n",
    "pos_train_data = pd.read_csv('train_pos.csv',sep = ',')\n",
    "neg_train_data = pd.read_csv('train_neg.csv',sep = ',')\n",
    "pos_test_data = pd.read_csv('test_pos.csv',sep = ',')\n",
    "neg_test_data = pd.read_csv('test_neg.csv',sep = ',')"
   ]
  },
  {
   "cell_type": "code",
   "execution_count": 2,
   "metadata": {},
   "outputs": [],
   "source": [
    "pos_train_data=pos_train_data[['Text','Label']]\n",
    "neg_train_data=neg_train_data[['Text','Label']]\n",
    "pos_test_data=pos_test_data[['Text','Label']]\n",
    "neg_test_data=neg_test_data[['Text','Label']]"
   ]
  },
  {
   "cell_type": "code",
   "execution_count": 3,
   "metadata": {},
   "outputs": [
    {
     "data": {
      "text/html": [
       "<div>\n",
       "<style scoped>\n",
       "    .dataframe tbody tr th:only-of-type {\n",
       "        vertical-align: middle;\n",
       "    }\n",
       "\n",
       "    .dataframe tbody tr th {\n",
       "        vertical-align: top;\n",
       "    }\n",
       "\n",
       "    .dataframe thead th {\n",
       "        text-align: right;\n",
       "    }\n",
       "</style>\n",
       "<table border=\"1\" class=\"dataframe\">\n",
       "  <thead>\n",
       "    <tr style=\"text-align: right;\">\n",
       "      <th></th>\n",
       "      <th>Text</th>\n",
       "      <th>Label</th>\n",
       "    </tr>\n",
       "  </thead>\n",
       "  <tbody>\n",
       "    <tr>\n",
       "      <th>0</th>\n",
       "      <td>I rented this movie when it came out on video ...</td>\n",
       "      <td>1</td>\n",
       "    </tr>\n",
       "    <tr>\n",
       "      <th>1</th>\n",
       "      <td>This movie has a very simple yet clever premis...</td>\n",
       "      <td>1</td>\n",
       "    </tr>\n",
       "    <tr>\n",
       "      <th>2</th>\n",
       "      <td>Sure, for it's super imagery and awesome sound...</td>\n",
       "      <td>1</td>\n",
       "    </tr>\n",
       "    <tr>\n",
       "      <th>3</th>\n",
       "      <td>Erich Rohmer's \"L'Anglaise et le duc\" makes a ...</td>\n",
       "      <td>1</td>\n",
       "    </tr>\n",
       "    <tr>\n",
       "      <th>4</th>\n",
       "      <td>I really enjoyed this movie. I am a single dad...</td>\n",
       "      <td>1</td>\n",
       "    </tr>\n",
       "  </tbody>\n",
       "</table>\n",
       "</div>"
      ],
      "text/plain": [
       "                                                Text  Label\n",
       "0  I rented this movie when it came out on video ...      1\n",
       "1  This movie has a very simple yet clever premis...      1\n",
       "2  Sure, for it's super imagery and awesome sound...      1\n",
       "3  Erich Rohmer's \"L'Anglaise et le duc\" makes a ...      1\n",
       "4  I really enjoyed this movie. I am a single dad...      1"
      ]
     },
     "execution_count": 3,
     "metadata": {},
     "output_type": "execute_result"
    }
   ],
   "source": [
    "data_train=pd.concat([pos_train_data,neg_train_data],ignore_index = True)\n",
    "data_train = data_train.sample(frac=1).reset_index(drop=True)\n",
    "data_train.head()"
   ]
  },
  {
   "cell_type": "code",
   "execution_count": 4,
   "metadata": {},
   "outputs": [
    {
     "data": {
      "text/html": [
       "<div>\n",
       "<style scoped>\n",
       "    .dataframe tbody tr th:only-of-type {\n",
       "        vertical-align: middle;\n",
       "    }\n",
       "\n",
       "    .dataframe tbody tr th {\n",
       "        vertical-align: top;\n",
       "    }\n",
       "\n",
       "    .dataframe thead th {\n",
       "        text-align: right;\n",
       "    }\n",
       "</style>\n",
       "<table border=\"1\" class=\"dataframe\">\n",
       "  <thead>\n",
       "    <tr style=\"text-align: right;\">\n",
       "      <th></th>\n",
       "      <th>Text</th>\n",
       "      <th>Label</th>\n",
       "    </tr>\n",
       "  </thead>\n",
       "  <tbody>\n",
       "    <tr>\n",
       "      <th>0</th>\n",
       "      <td>Uninspired, pretty much all around. The only e...</td>\n",
       "      <td>0</td>\n",
       "    </tr>\n",
       "    <tr>\n",
       "      <th>1</th>\n",
       "      <td>This film is so 1980's and that is what I like...</td>\n",
       "      <td>1</td>\n",
       "    </tr>\n",
       "    <tr>\n",
       "      <th>2</th>\n",
       "      <td>Previous Tarantino movies were from a guy in l...</td>\n",
       "      <td>0</td>\n",
       "    </tr>\n",
       "    <tr>\n",
       "      <th>3</th>\n",
       "      <td>I suspect there's some revisionist history goi...</td>\n",
       "      <td>1</td>\n",
       "    </tr>\n",
       "    <tr>\n",
       "      <th>4</th>\n",
       "      <td>Alfred Hitchcock's remake of \"The Man Who Who ...</td>\n",
       "      <td>1</td>\n",
       "    </tr>\n",
       "  </tbody>\n",
       "</table>\n",
       "</div>"
      ],
      "text/plain": [
       "                                                Text  Label\n",
       "0  Uninspired, pretty much all around. The only e...      0\n",
       "1  This film is so 1980's and that is what I like...      1\n",
       "2  Previous Tarantino movies were from a guy in l...      0\n",
       "3  I suspect there's some revisionist history goi...      1\n",
       "4  Alfred Hitchcock's remake of \"The Man Who Who ...      1"
      ]
     },
     "execution_count": 4,
     "metadata": {},
     "output_type": "execute_result"
    }
   ],
   "source": [
    "data_test = pd.concat([pos_test_data,neg_test_data],ignore_index = True)\n",
    "data_test = data_test.sample(frac=1).reset_index(drop=True)\n",
    "data_test.head()"
   ]
  },
  {
   "cell_type": "code",
   "execution_count": 5,
   "metadata": {},
   "outputs": [],
   "source": [
    "import nltk\n",
    "from nltk.tokenize import word_tokenize\n",
    "from nltk.corpus import stopwords\n",
    "from string import punctuation\n",
    "\n",
    "stop_words=set(stopwords.words('english'))\n",
    "table = str.maketrans('','',punctuation)\n",
    "\n",
    "def textclean(text):\n",
    "    tokens=word_tokenize(text)\n",
    "    tokens=[word for word in tokens if word.isalpha()]\n",
    "    tokens=[w.translate(table) for w in tokens]\n",
    "    tokens=[word for word in tokens if not word in stop_words]\n",
    "    token = [word for word in tokens if len(word)>1 ]\n",
    "    return tokens"
   ]
  },
  {
   "cell_type": "code",
   "execution_count": 6,
   "metadata": {},
   "outputs": [],
   "source": [
    "reviews=[]\n",
    "for index,row in data_train.iterrows():\n",
    "    text=row['Text'].lower()\n",
    "    reviews.append(textclean(text))"
   ]
  },
  {
   "cell_type": "code",
   "execution_count": 7,
   "metadata": {},
   "outputs": [
    {
     "data": {
      "text/plain": [
       "['rented',\n",
       " 'movie',\n",
       " 'came',\n",
       " 'video',\n",
       " 'tape',\n",
       " 'really',\n",
       " 'enjoyed',\n",
       " 'opportunity',\n",
       " 'purchase',\n",
       " 'dvd',\n",
       " 'weeks',\n",
       " 'ago',\n",
       " 'watched',\n",
       " 'several',\n",
       " 'times',\n",
       " 'since',\n",
       " 'would',\n",
       " 'agree',\n",
       " 'others',\n",
       " 'said',\n",
       " 'indian',\n",
       " 'summer',\n",
       " 'nostalgic',\n",
       " 'film',\n",
       " 'watch',\n",
       " 'wish',\n",
       " 'could',\n",
       " 'think',\n",
       " 'like',\n",
       " 'movie',\n",
       " 'extent',\n",
       " 'times',\n",
       " 'wish',\n",
       " 'could',\n",
       " 'relive',\n",
       " 'lives',\n",
       " 'children',\n",
       " 'adults',\n",
       " 'would',\n",
       " 'nice',\n",
       " 'young',\n",
       " 'worry',\n",
       " 'job',\n",
       " 'parent',\n",
       " 'etc',\n",
       " 'know',\n",
       " 'would',\n",
       " 'like',\n",
       " 'jump',\n",
       " 'de',\n",
       " 'lorean',\n",
       " 'go',\n",
       " 'back',\n",
       " 'time',\n",
       " 'enjoyed',\n",
       " 'film',\n",
       " 'much',\n",
       " 'time',\n",
       " 'favorite',\n",
       " 'camp',\n",
       " 'film',\n",
       " 'though',\n",
       " 'meatballs',\n",
       " 'bill',\n",
       " 'murray',\n",
       " 'wish',\n",
       " 'could',\n",
       " 'make',\n",
       " 'indian',\n",
       " 'summer',\n",
       " 'version']"
      ]
     },
     "execution_count": 7,
     "metadata": {},
     "output_type": "execute_result"
    }
   ],
   "source": [
    "reviews[0]"
   ]
  },
  {
   "cell_type": "code",
   "execution_count": 8,
   "metadata": {},
   "outputs": [
    {
     "name": "stderr",
     "output_type": "stream",
     "text": [
      "D:\\Anaconda3\\lib\\site-packages\\smart_open\\ssh.py:34: UserWarning: paramiko missing, opening SSH/SCP/SFTP paths will be disabled.  `pip install paramiko` to suppress\n",
      "  warnings.warn('paramiko missing, opening SSH/SCP/SFTP paths will be disabled.  `pip install paramiko` to suppress')\n",
      "D:\\Anaconda3\\lib\\site-packages\\gensim\\utils.py:1197: UserWarning: detected Windows; aliasing chunkize to chunkize_serial\n",
      "  warnings.warn(\"detected Windows; aliasing chunkize to chunkize_serial\")\n"
     ]
    }
   ],
   "source": [
    "import gensim\n",
    "from gensim.models import Word2Vec\n",
    "n_dim=200\n",
    "\n",
    "w2v_model =Word2Vec(reviews,min_count=5,size=n_dim)"
   ]
  },
  {
   "cell_type": "code",
   "execution_count": 9,
   "metadata": {},
   "outputs": [],
   "source": [
    "from sklearn.feature_extraction.text import TfidfVectorizer\n",
    "\n",
    "\n",
    "vectorizer  = TfidfVectorizer(min_df=10,analyzer=lambda x: x)\n",
    "\n",
    "matrix=vectorizer.fit_transform(reviews)\n",
    "\n"
   ]
  },
  {
   "cell_type": "code",
   "execution_count": 10,
   "metadata": {},
   "outputs": [],
   "source": [
    "tfidf = dict(zip(vectorizer.get_feature_names(),vectorizer.idf_))\n"
   ]
  },
  {
   "cell_type": "code",
   "execution_count": 11,
   "metadata": {},
   "outputs": [],
   "source": [
    "def create_word_vector(l,size):\n",
    "    vector = np.zeros(size).reshape((1,size))\n",
    "    count = 0.\n",
    "    for word in l:\n",
    "        try:\n",
    "            vector += w2v_model[word].reshape((1, size)) * tfidf[word]\n",
    "            count+=1\n",
    "        except KeyError:\n",
    "            continue\n",
    "            \n",
    "    if count!=0:\n",
    "        vector /= count\n",
    "    return vector"
   ]
  },
  {
   "cell_type": "code",
   "execution_count": 12,
   "metadata": {},
   "outputs": [
    {
     "name": "stderr",
     "output_type": "stream",
     "text": [
      "D:\\Anaconda3\\lib\\site-packages\\ipykernel_launcher.py:6: DeprecationWarning: Call to deprecated `__getitem__` (Method will be removed in 4.0.0, use self.wv.__getitem__() instead).\n",
      "  \n"
     ]
    }
   ],
   "source": [
    "X_train = []\n",
    "y_train = []\n",
    "\n",
    "for i in range(len(data_train)):\n",
    "    converted_review = create_word_vector(reviews[i],n_dim)\n",
    "    #print(converted_review)\n",
    "    X_train.append(np.array(converted_review))\n",
    "    y_train.append(data_train['Label'][i])"
   ]
  },
  {
   "cell_type": "code",
   "execution_count": 13,
   "metadata": {},
   "outputs": [],
   "source": [
    "from sklearn.preprocessing import scale\n",
    "\n",
    "X_train = np.concatenate(X_train)\n",
    "X_train = scale(X_train)\n",
    "y_train = np.array(y_train)\n"
   ]
  },
  {
   "cell_type": "code",
   "execution_count": 14,
   "metadata": {},
   "outputs": [
    {
     "data": {
      "text/plain": [
       "(25000, 200)"
      ]
     },
     "execution_count": 14,
     "metadata": {},
     "output_type": "execute_result"
    }
   ],
   "source": [
    "X_train.shape"
   ]
  },
  {
   "cell_type": "code",
   "execution_count": 15,
   "metadata": {},
   "outputs": [
    {
     "name": "stderr",
     "output_type": "stream",
     "text": [
      "D:\\Anaconda3\\lib\\site-packages\\ipykernel_launcher.py:6: DeprecationWarning: Call to deprecated `__getitem__` (Method will be removed in 4.0.0, use self.wv.__getitem__() instead).\n",
      "  \n"
     ]
    }
   ],
   "source": [
    "data_test = pd.concat([pos_test_data,neg_test_data],ignore_index = True)\n",
    "data_test = data_test.sample(frac=1).reset_index(drop=True)\n",
    "\n",
    "validation_reviews = []\n",
    "\n",
    "for index,row in data_test.iterrows():\n",
    "    text = (row['Text'].lower())\n",
    "    validation_reviews.append(textclean(text))\n",
    "    \n",
    "X_val = []\n",
    "y_val = []\n",
    "\n",
    "for i in range(len(data_test)):\n",
    "    converted_review = create_word_vector(validation_reviews[i],n_dim)\n",
    "    X_val.append(converted_review)\n",
    "    y_val.append(data_test['Label'][i])\n",
    "        \n",
    "X_val = np.concatenate(X_val)\n",
    "X_val = scale(X_val)\n",
    "y_val = np.array(y_val)"
   ]
  },
  {
   "cell_type": "code",
   "execution_count": 16,
   "metadata": {},
   "outputs": [
    {
     "data": {
      "text/plain": [
       "(25000, 200)"
      ]
     },
     "execution_count": 16,
     "metadata": {},
     "output_type": "execute_result"
    }
   ],
   "source": [
    "X_val.shape"
   ]
  },
  {
   "cell_type": "code",
   "execution_count": 17,
   "metadata": {},
   "outputs": [],
   "source": [
    "from sklearn.svm import SVC\n",
    "\n",
    "clf = SVC()\n",
    "clf = clf.fit(X_train,y_train)"
   ]
  },
  {
   "cell_type": "code",
   "execution_count": 18,
   "metadata": {},
   "outputs": [
    {
     "name": "stdout",
     "output_type": "stream",
     "text": [
      "[0]\n"
     ]
    }
   ],
   "source": [
    "print(clf.predict(X_val[4].reshape(1,-1)))"
   ]
  },
  {
   "cell_type": "code",
   "execution_count": 19,
   "metadata": {},
   "outputs": [
    {
     "data": {
      "text/plain": [
       "\"i am an avid ff7 fan, for instance i have the game then sell it(bad mistake) but then buy it again (good mistake...erm)<br /><br />anyways, yes this film is very good, the fights are very cool, music very good, and the cgi you cant falter.<br /><br />only thing disappointing with the film i felt was the lack of other character involvement, it was almost all cloud which although is a great character, u cant beat a of cid and barret.<br /><br />but despite that the film was great in my opinion, and a must watch.<br /><br />overall a great film give and will give it 9/10 <br /><br />squaresoft, make more films like this and you'll be worshiped more so than you already are!!!!\""
      ]
     },
     "execution_count": 19,
     "metadata": {},
     "output_type": "execute_result"
    }
   ],
   "source": [
    "data_test['Text'][4]"
   ]
  },
  {
   "cell_type": "code",
   "execution_count": 20,
   "metadata": {},
   "outputs": [
    {
     "name": "stdout",
     "output_type": "stream",
     "text": [
      "0.85124\n"
     ]
    }
   ],
   "source": [
    "from sklearn.metrics import accuracy_score\n",
    "\n",
    "print(accuracy_score(y_val,clf.predict(X_val)))"
   ]
  },
  {
   "cell_type": "code",
   "execution_count": null,
   "metadata": {},
   "outputs": [],
   "source": []
  }
 ],
 "metadata": {
  "kernelspec": {
   "display_name": "Python 3",
   "language": "python",
   "name": "python3"
  },
  "language_info": {
   "codemirror_mode": {
    "name": "ipython",
    "version": 3
   },
   "file_extension": ".py",
   "mimetype": "text/x-python",
   "name": "python",
   "nbconvert_exporter": "python",
   "pygments_lexer": "ipython3",
   "version": "3.7.1"
  }
 },
 "nbformat": 4,
 "nbformat_minor": 2
}
